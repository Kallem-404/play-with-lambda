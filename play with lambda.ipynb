{
 "cells": [
  {
   "cell_type": "code",
   "execution_count": null,
   "id": "b4e64605",
   "metadata": {},
   "outputs": [],
   "source": [
    "Play with lambda"
   ]
  },
  {
   "cell_type": "code",
   "execution_count": 2,
   "id": "83e25620",
   "metadata": {},
   "outputs": [
    {
     "name": "stdout",
     "output_type": "stream",
     "text": [
      "35\n"
     ]
    }
   ],
   "source": [
    "r = lambda a : a + 25                #The lambda keyword used to define an anonymous function\n",
    "a = 10                                # assigning 'a' value as 10 \n",
    "print(r(a))\n",
    "r = lambda x, y : x * y             # x and y are the parameters that we pass to the lambda fuction"
   ]
  },
  {
   "cell_type": "markdown",
   "id": "aa3234bf",
   "metadata": {},
   "source": [
    "# Test Cases"
   ]
  },
  {
   "cell_type": "code",
   "execution_count": 3,
   "id": "a7ab919c",
   "metadata": {},
   "outputs": [
    {
     "name": "stdout",
     "output_type": "stream",
     "text": [
      "6\n"
     ]
    }
   ],
   "source": [
    "r = lambda a : a - 20               #The lambda keyword used to define an anonymous function\n",
    "a = 26\n",
    "print(r(a))\n",
    "r = lambda x, y : x * y             # x and y are the parameters that we pass to the lambda fuction"
   ]
  },
  {
   "cell_type": "code",
   "execution_count": null,
   "id": "d0ac7175",
   "metadata": {},
   "outputs": [],
   "source": []
  }
 ],
 "metadata": {
  "kernelspec": {
   "display_name": "Python 3 (ipykernel)",
   "language": "python",
   "name": "python3"
  },
  "language_info": {
   "codemirror_mode": {
    "name": "ipython",
    "version": 3
   },
   "file_extension": ".py",
   "mimetype": "text/x-python",
   "name": "python",
   "nbconvert_exporter": "python",
   "pygments_lexer": "ipython3",
   "version": "3.10.1"
  }
 },
 "nbformat": 4,
 "nbformat_minor": 5
}
